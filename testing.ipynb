{
 "cells": [
  {
   "cell_type": "code",
   "execution_count": 1,
   "id": "ce103839",
   "metadata": {},
   "outputs": [],
   "source": [
    "from controller import SensitivityEstimator"
   ]
  },
  {
   "cell_type": "code",
   "execution_count": 2,
   "id": "d3303642",
   "metadata": {},
   "outputs": [
    {
     "name": "stdout",
     "output_type": "stream",
     "text": [
      "INFO:\u001b[96m[SensitivityEstimator]\u001b[0m:Users: 10, Process Noise Variance: 0.0100, Measurement Noise Variance: 0.1000.\n"
     ]
    }
   ],
   "source": [
    "est = SensitivityEstimator(n_users=10)"
   ]
  },
  {
   "cell_type": "code",
   "execution_count": 4,
   "id": "b3f1a993",
   "metadata": {},
   "outputs": [
    {
     "data": {
      "text/plain": [
       "'SensitivityEstimator'"
      ]
     },
     "execution_count": 4,
     "metadata": {},
     "output_type": "execute_result"
    }
   ],
   "source": [
    "est.__class__.__name__"
   ]
  },
  {
   "cell_type": "code",
   "execution_count": null,
   "id": "6584ce92",
   "metadata": {},
   "outputs": [],
   "source": []
  }
 ],
 "metadata": {
  "kernelspec": {
   "display_name": "atic-GP_CSPw3-py3.11",
   "language": "python",
   "name": "python3"
  },
  "language_info": {
   "codemirror_mode": {
    "name": "ipython",
    "version": 3
   },
   "file_extension": ".py",
   "mimetype": "text/x-python",
   "name": "python",
   "nbconvert_exporter": "python",
   "pygments_lexer": "ipython3",
   "version": "3.11.8"
  }
 },
 "nbformat": 4,
 "nbformat_minor": 5
}
